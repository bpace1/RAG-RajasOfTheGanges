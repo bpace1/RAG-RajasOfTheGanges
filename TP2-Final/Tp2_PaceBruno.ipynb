{
  "cells": [
    {
      "cell_type": "markdown",
      "metadata": {
        "id": "_0SfZjkEr6dJ"
      },
      "source": [
        "### Facultad de Ciencias Exactas, Ingeniería y Agrimensura - UNR\n",
        "## Tenicatura Universitaria en Inteligencia Artificial.\n",
        "\n",
        "\n",
        "# Trabajo Práctico Final: Procesamiento de Lenguaje Natural.\n",
        "\n",
        "- **Pace, Bruno. Legajo: P-5295/7.**\n",
        "\n",
        "Docentes:\n",
        " - Manson, Juan Pablo.\n",
        " - Geary, Alan.\n",
        " - Sollberger, Dolores.\n",
        " - Ferrucci, Costantino.\n",
        "\n",
        "Fecha de Entrega: 15 de diciembre de 2024.\n"
      ]
    },
    {
      "cell_type": "code",
      "source": [
        "# Redis graph\n",
        "%%capture\n",
        "!pip install redis redisgraph\n",
        "!wget http://nz2.archive.ubuntu.com/ubuntu/pool/main/o/openssl/libssl1.1_1.1.1f-1ubuntu2_amd64.deb\n",
        "!sudo dpkg -i libssl1.1_1.1.1f-1ubuntu2_amd64.deb\n",
        "!curl -fsSL https://packages.redis.io/redis-stack/redis-stack-server-6.2.6-v7.focal.x86_64.tar.gz -o redis-stack-server.tar.gz\n",
        "!tar -xvf redis-stack-server.tar.gz\n",
        "!./redis-stack-server-6.2.6-v7/bin/redis-stack-server --daemonize yes\n",
        "\n",
        "\n",
        "import redis\n",
        "from redisgraph import Graph, Node, Edge\n",
        "import matplotlib.pyplot as plt\n",
        "import networkx as nx\n",
        "\n",
        "# Selenium web scrapping\n",
        "!apt-get update\n",
        "!apt-get install -y chromium-browser chromium-chromedriver\n",
        "!pip install selenium\n",
        "\n",
        "!apt-get install -y xvfb\n",
        "!pip install pyvirtualdisplay\n",
        "\n",
        "from selenium import webdriver\n",
        "from selenium.webdriver.chrome.options import Options\n",
        "from selenium.webdriver.chrome.service import Service\n",
        "from selenium.webdriver.common.by import By\n",
        "\n",
        "import os\n",
        "os.environ[\"PATH\"] += \":/usr/bin/chromedriver\"\n"
      ],
      "metadata": {
        "id": "gV14k698JrYS"
      },
      "execution_count": 1,
      "outputs": []
    },
    {
      "cell_type": "markdown",
      "source": [
        "# Base de Datos de Grafo"
      ],
      "metadata": {
        "id": "jUbqUlQ9sFfu"
      }
    },
    {
      "cell_type": "markdown",
      "source": [
        "## Web scrapping\n",
        "Se obtiene información a través de Web Scrapping con Selenium.\n",
        "Se tiene la siguiente información:\n",
        "- Diseñadores.\n",
        "- Artistas.\n",
        "- Familia de Juegos.\n",
        "- Mecanismos.\n",
        "- Empresas que lo publicaron.\n",
        "- Categorias."
      ],
      "metadata": {
        "id": "3C6tChBKfSW2"
      }
    },
    {
      "cell_type": "code",
      "source": [
        "url_grafo: str = \"https://boardgamegeek.com/boardgame/220877/rajas-of-the-ganges/credits\"\n",
        "title: str = 'Rajas Of The Ganges'"
      ],
      "metadata": {
        "id": "RfhR_chUSchO"
      },
      "execution_count": 2,
      "outputs": []
    },
    {
      "cell_type": "code",
      "source": [
        "def buscar_credito(data: str) -> tuple[dict[str, list[str]], dict[str,list[str]]]:\n",
        "    \"\"\"\n",
        "    Retorna una tupla de diccionarios que contienen el(los) nombre(s) y el link(s) correspondiente(s)\n",
        "\n",
        "    Args:\n",
        "      data: str = el nombre del dato a buscar\n",
        "\n",
        "    Returns:\n",
        "      name_dict: dict[str, list[str]] = diccionario con los nombres.\n",
        "      link_dict: dict[str, list[str]] = diccionario con los links.\n",
        "    \"\"\"\n",
        "    chrome_options = Options()\n",
        "    chrome_options.add_argument(\"--headless\")\n",
        "    chrome_options.add_argument(\"--no-sandbox\")\n",
        "    driver = webdriver.Chrome(service=Service(), options=chrome_options)\n",
        "    driver.get(url_grafo)\n",
        "\n",
        "    name_dict: dict[str, list[str]] = {f\"{data}_nombre\": []}\n",
        "    link_dict: dict[str, list[str]] = {f\"{data}_link\": []}\n",
        "\n",
        "    elements = driver.find_elements(By.XPATH, f'//a[contains(@ng-href, \"/boardgame{data}/\")]')\n",
        "\n",
        "    if elements:\n",
        "        for element in elements:\n",
        "            name_dict[f\"{data}_nombre\"].append(element.text)\n",
        "            link_dict[f\"{data}_link\"].append(element.get_attribute('href'))\n",
        "    else:\n",
        "        print(f\"No se encontraron elementos para {data}\")\n",
        "\n",
        "    driver.quit()\n",
        "\n",
        "    return name_dict, link_dict\n",
        "\n",
        "data_designer: tuple[dict[str, list[str]], dict[str,list[str]]] = buscar_credito(\"designer\")\n",
        "data_artist: tuple[dict[str, list[str]], dict[str,list[str]]] = buscar_credito(\"artist\")\n",
        "data_family: tuple[dict[str, list[str]], dict[str,list[str]]] = buscar_credito(\"family\")\n",
        "data_mechanic: tuple[dict[str, list[str]], dict[str,list[str]]] = buscar_credito(\"mechanic\")\n",
        "data_publisher: tuple[dict[str, list[str]], dict[str,list[str]]] = buscar_credito(\"publisher\")\n",
        "data_categories: tuple[dict[str, list[str]], dict[str,list[str]]] = buscar_credito(\"category\")"
      ],
      "metadata": {
        "id": "Pwzp3woDrU26"
      },
      "execution_count": 3,
      "outputs": []
    },
    {
      "cell_type": "code",
      "source": [
        "data_categories[0]"
      ],
      "metadata": {
        "id": "Pbmvyj0yB0GF",
        "outputId": "9daa998c-f26a-411c-9af8-81c7f0078915",
        "colab": {
          "base_uri": "https://localhost:8080/"
        }
      },
      "execution_count": 4,
      "outputs": [
        {
          "output_type": "execute_result",
          "data": {
            "text/plain": [
              "{'category_nombre': ['Dice', 'Economic', 'Renaissance', 'Territory Building']}"
            ]
          },
          "metadata": {},
          "execution_count": 4
        }
      ]
    },
    {
      "cell_type": "markdown",
      "source": [
        "## Creación de BBDD de Grafos\n",
        "Se utiliza Redis, por su simple implementación con Colab."
      ],
      "metadata": {
        "id": "IL_iHdbjf5fH"
      }
    },
    {
      "cell_type": "code",
      "source": [
        "redis_client = redis.Redis(host='localhost', port=6379)"
      ],
      "metadata": {
        "id": "GZTsP2mbfxSJ"
      },
      "execution_count": 5,
      "outputs": []
    },
    {
      "cell_type": "code",
      "source": [
        "def define_relation(label: str) -> str:\n",
        "  \"\"\"\n",
        "  Define la relación entre el nodo titulo y el nodo que se quiere relacionar\n",
        "\n",
        "  Args:\n",
        "    label: str = el label del nodo que se quiere relacionar\n",
        "\n",
        "  Returns:\n",
        "    str = el label de la relación\n",
        "  \"\"\"\n",
        "  if label == \"Designer\":\n",
        "    return \"Designed by\"\n",
        "  elif label == \"Artist\":\n",
        "    return \"Created by\"\n",
        "  elif label == \"Family\":\n",
        "    return \"Similar game\"\n",
        "  elif label == \"Mechanic\":\n",
        "    return \"Mechanic\"\n",
        "  elif label == \"Published by\":\n",
        "    return \"Published by\"\n",
        "  elif label == \"Category\":\n",
        "    return \"Category\"\n",
        "  return None"
      ],
      "metadata": {
        "id": "lTNeFwQg7iJG"
      },
      "execution_count": 6,
      "outputs": []
    },
    {
      "cell_type": "code",
      "source": [
        "def crear_nodos_with_edges(graph: Graph, data: dict[str, list[str]], main_node: Node) -> None:\n",
        "    \"\"\"\n",
        "    Dado un diccionario con datos, crea los nodos correspondientes en un grafo\n",
        "    de redis y añade las relaciones correspondientes.\n",
        "\n",
        "    Args:\n",
        "        graph: Redis graph instance.\n",
        "        data: Dictionary containing names as lists under specific keys.\n",
        "        main_node: The main node to relate new nodes with.\n",
        "\n",
        "    Returns:\n",
        "        None\n",
        "    \"\"\"\n",
        "    if not data:\n",
        "        print(\"Diccionario vacío\")\n",
        "        return\n",
        "\n",
        "    for key, names in data[0].items():\n",
        "        label = key.split(\"_\")[0].capitalize()\n",
        "        relation = define_relation(label)\n",
        "\n",
        "        if not relation:\n",
        "            print(f\"Relación no definida para el label: {label}\")\n",
        "            continue\n",
        "\n",
        "        for name in names:\n",
        "            print(f'Creando nodo con nombre: {name} y label: {label}')\n",
        "            node = Node(label=label, properties={\"name\": name})\n",
        "            graph.add_node(node)\n",
        "            graph.commit()\n",
        "\n",
        "            print(f'Añadiendo relación: {relation}')\n",
        "            edge = Edge(main_node, relation, node)\n",
        "            graph.add_edge(edge)\n",
        "            graph.commit()\n",
        "\n",
        "    print(\"Nodos y relaciones creados exitosamente.\")\n",
        "    return None"
      ],
      "metadata": {
        "id": "IdfDuUhp0mYP"
      },
      "execution_count": 7,
      "outputs": []
    },
    {
      "cell_type": "code",
      "source": [
        "graph = Graph('creditos', redis_client)\n",
        "main_node = Node(label='title', properties={\"name\": title})\n",
        "graph.add_node(main_node)\n",
        "graph.commit()"
      ],
      "metadata": {
        "id": "77i4JN-bE-A0",
        "outputId": "5fc3a37b-59d9-4878-c373-acd258de62d5",
        "colab": {
          "base_uri": "https://localhost:8080/"
        }
      },
      "execution_count": 8,
      "outputs": [
        {
          "output_type": "execute_result",
          "data": {
            "text/plain": [
              "<redisgraph.query_result.QueryResult at 0x7a3f02481150>"
            ]
          },
          "metadata": {},
          "execution_count": 8
        }
      ]
    },
    {
      "cell_type": "code",
      "source": [
        "crear_nodos_with_edges(graph, data_designer, main_node)\n",
        "crear_nodos_with_edges(graph, data_artist, main_node)\n",
        "crear_nodos_with_edges(graph, data_family, main_node)\n",
        "crear_nodos_with_edges(graph, data_mechanic, main_node)\n",
        "crear_nodos_with_edges(graph, data_publisher, main_node)\n",
        "crear_nodos_with_edges(graph, data_categories, main_node)"
      ],
      "metadata": {
        "id": "Z3LL7Qt8epqB",
        "outputId": "98c60374-a64f-4f3e-e791-e0502ef3c10d",
        "colab": {
          "base_uri": "https://localhost:8080/",
          "height": 418
        }
      },
      "execution_count": 9,
      "outputs": [
        {
          "output_type": "stream",
          "name": "stdout",
          "text": [
            "Creando nodo con nombre: Inka Brand y label: Designer\n",
            "Añadiendo relación: Designed by\n"
          ]
        },
        {
          "output_type": "error",
          "ename": "ResponseError",
          "evalue": "errMsg: Invalid input 'b': expected '|', '*', '{', a parameter or ']' line: 1, column: 154, offset: 153 errCtx: ...e:\"Rajas Of The Ganges\"})-[:Designed by]->(ghprwbaxln:Designer{name:\"Inka ... errCtxOffset: 40",
          "traceback": [
            "\u001b[0;31m---------------------------------------------------------------------------\u001b[0m",
            "\u001b[0;31mResponseError\u001b[0m                             Traceback (most recent call last)",
            "\u001b[0;32m<ipython-input-9-6ec6a8db6756>\u001b[0m in \u001b[0;36m<cell line: 1>\u001b[0;34m()\u001b[0m\n\u001b[0;32m----> 1\u001b[0;31m \u001b[0mcrear_nodos_with_edges\u001b[0m\u001b[0;34m(\u001b[0m\u001b[0mgraph\u001b[0m\u001b[0;34m,\u001b[0m \u001b[0mdata_designer\u001b[0m\u001b[0;34m,\u001b[0m \u001b[0mmain_node\u001b[0m\u001b[0;34m)\u001b[0m\u001b[0;34m\u001b[0m\u001b[0;34m\u001b[0m\u001b[0m\n\u001b[0m\u001b[1;32m      2\u001b[0m \u001b[0mcrear_nodos_with_edges\u001b[0m\u001b[0;34m(\u001b[0m\u001b[0mgraph\u001b[0m\u001b[0;34m,\u001b[0m \u001b[0mdata_artist\u001b[0m\u001b[0;34m,\u001b[0m \u001b[0mmain_node\u001b[0m\u001b[0;34m)\u001b[0m\u001b[0;34m\u001b[0m\u001b[0;34m\u001b[0m\u001b[0m\n\u001b[1;32m      3\u001b[0m \u001b[0mcrear_nodos_with_edges\u001b[0m\u001b[0;34m(\u001b[0m\u001b[0mgraph\u001b[0m\u001b[0;34m,\u001b[0m \u001b[0mdata_family\u001b[0m\u001b[0;34m,\u001b[0m \u001b[0mmain_node\u001b[0m\u001b[0;34m)\u001b[0m\u001b[0;34m\u001b[0m\u001b[0;34m\u001b[0m\u001b[0m\n\u001b[1;32m      4\u001b[0m \u001b[0mcrear_nodos_with_edges\u001b[0m\u001b[0;34m(\u001b[0m\u001b[0mgraph\u001b[0m\u001b[0;34m,\u001b[0m \u001b[0mdata_mechanic\u001b[0m\u001b[0;34m,\u001b[0m \u001b[0mmain_node\u001b[0m\u001b[0;34m)\u001b[0m\u001b[0;34m\u001b[0m\u001b[0;34m\u001b[0m\u001b[0m\n\u001b[1;32m      5\u001b[0m \u001b[0mcrear_nodos_with_edges\u001b[0m\u001b[0;34m(\u001b[0m\u001b[0mgraph\u001b[0m\u001b[0;34m,\u001b[0m \u001b[0mdata_publisher\u001b[0m\u001b[0;34m,\u001b[0m \u001b[0mmain_node\u001b[0m\u001b[0;34m)\u001b[0m\u001b[0;34m\u001b[0m\u001b[0;34m\u001b[0m\u001b[0m\n",
            "\u001b[0;32m<ipython-input-7-565001d1c2a3>\u001b[0m in \u001b[0;36mcrear_nodos_with_edges\u001b[0;34m(graph, data, main_node)\u001b[0m\n\u001b[1;32m     33\u001b[0m             \u001b[0medge\u001b[0m \u001b[0;34m=\u001b[0m \u001b[0mEdge\u001b[0m\u001b[0;34m(\u001b[0m\u001b[0mmain_node\u001b[0m\u001b[0;34m,\u001b[0m \u001b[0mrelation\u001b[0m\u001b[0;34m,\u001b[0m \u001b[0mnode\u001b[0m\u001b[0;34m)\u001b[0m\u001b[0;34m\u001b[0m\u001b[0;34m\u001b[0m\u001b[0m\n\u001b[1;32m     34\u001b[0m             \u001b[0mgraph\u001b[0m\u001b[0;34m.\u001b[0m\u001b[0madd_edge\u001b[0m\u001b[0;34m(\u001b[0m\u001b[0medge\u001b[0m\u001b[0;34m)\u001b[0m\u001b[0;34m\u001b[0m\u001b[0;34m\u001b[0m\u001b[0m\n\u001b[0;32m---> 35\u001b[0;31m             \u001b[0mgraph\u001b[0m\u001b[0;34m.\u001b[0m\u001b[0mcommit\u001b[0m\u001b[0;34m(\u001b[0m\u001b[0;34m)\u001b[0m\u001b[0;34m\u001b[0m\u001b[0;34m\u001b[0m\u001b[0m\n\u001b[0m\u001b[1;32m     36\u001b[0m \u001b[0;34m\u001b[0m\u001b[0m\n\u001b[1;32m     37\u001b[0m     \u001b[0mprint\u001b[0m\u001b[0;34m(\u001b[0m\u001b[0;34m\"Nodos y relaciones creados exitosamente.\"\u001b[0m\u001b[0;34m)\u001b[0m\u001b[0;34m\u001b[0m\u001b[0;34m\u001b[0m\u001b[0m\n",
            "\u001b[0;32m/usr/local/lib/python3.10/dist-packages/redisgraph/graph.py\u001b[0m in \u001b[0;36mcommit\u001b[0;34m(self)\u001b[0m\n\u001b[1;32m    148\u001b[0m             \u001b[0mquery\u001b[0m \u001b[0;34m=\u001b[0m \u001b[0mquery\u001b[0m\u001b[0;34m[\u001b[0m\u001b[0;34m:\u001b[0m\u001b[0;34m-\u001b[0m\u001b[0;36m1\u001b[0m\u001b[0;34m]\u001b[0m\u001b[0;34m\u001b[0m\u001b[0;34m\u001b[0m\u001b[0m\n\u001b[1;32m    149\u001b[0m \u001b[0;34m\u001b[0m\u001b[0m\n\u001b[0;32m--> 150\u001b[0;31m         \u001b[0;32mreturn\u001b[0m \u001b[0mself\u001b[0m\u001b[0;34m.\u001b[0m\u001b[0mquery\u001b[0m\u001b[0;34m(\u001b[0m\u001b[0mquery\u001b[0m\u001b[0;34m)\u001b[0m\u001b[0;34m\u001b[0m\u001b[0;34m\u001b[0m\u001b[0m\n\u001b[0m\u001b[1;32m    151\u001b[0m \u001b[0;34m\u001b[0m\u001b[0m\n\u001b[1;32m    152\u001b[0m     \u001b[0;32mdef\u001b[0m \u001b[0mflush\u001b[0m\u001b[0;34m(\u001b[0m\u001b[0mself\u001b[0m\u001b[0;34m)\u001b[0m\u001b[0;34m:\u001b[0m\u001b[0;34m\u001b[0m\u001b[0;34m\u001b[0m\u001b[0m\n",
            "\u001b[0;32m/usr/local/lib/python3.10/dist-packages/redisgraph/graph.py\u001b[0m in \u001b[0;36mquery\u001b[0;34m(self, q, params, timeout, read_only)\u001b[0m\n\u001b[1;32m    208\u001b[0m                 \u001b[0;31m# `GRAPH.RO_QUERY` is unavailable in older versions.\u001b[0m\u001b[0;34m\u001b[0m\u001b[0;34m\u001b[0m\u001b[0m\n\u001b[1;32m    209\u001b[0m                 \u001b[0;32mreturn\u001b[0m \u001b[0mself\u001b[0m\u001b[0;34m.\u001b[0m\u001b[0mquery\u001b[0m\u001b[0;34m(\u001b[0m\u001b[0mq\u001b[0m\u001b[0;34m,\u001b[0m \u001b[0mparams\u001b[0m\u001b[0;34m,\u001b[0m \u001b[0mtimeout\u001b[0m\u001b[0;34m,\u001b[0m \u001b[0mread_only\u001b[0m\u001b[0;34m=\u001b[0m\u001b[0;32mFalse\u001b[0m\u001b[0;34m)\u001b[0m\u001b[0;34m\u001b[0m\u001b[0;34m\u001b[0m\u001b[0m\n\u001b[0;32m--> 210\u001b[0;31m             \u001b[0;32mraise\u001b[0m \u001b[0me\u001b[0m\u001b[0;34m\u001b[0m\u001b[0;34m\u001b[0m\u001b[0m\n\u001b[0m\u001b[1;32m    211\u001b[0m         \u001b[0;32mexcept\u001b[0m \u001b[0mVersionMismatchException\u001b[0m \u001b[0;32mas\u001b[0m \u001b[0me\u001b[0m\u001b[0;34m:\u001b[0m\u001b[0;34m\u001b[0m\u001b[0;34m\u001b[0m\u001b[0m\n\u001b[1;32m    212\u001b[0m             \u001b[0;31m# client view over the graph schema is out of sync\u001b[0m\u001b[0;34m\u001b[0m\u001b[0;34m\u001b[0m\u001b[0m\n",
            "\u001b[0;32m/usr/local/lib/python3.10/dist-packages/redisgraph/graph.py\u001b[0m in \u001b[0;36mquery\u001b[0;34m(self, q, params, timeout, read_only)\u001b[0m\n\u001b[1;32m    200\u001b[0m         \u001b[0;31m# issue query\u001b[0m\u001b[0;34m\u001b[0m\u001b[0;34m\u001b[0m\u001b[0m\n\u001b[1;32m    201\u001b[0m         \u001b[0;32mtry\u001b[0m\u001b[0;34m:\u001b[0m\u001b[0;34m\u001b[0m\u001b[0;34m\u001b[0m\u001b[0m\n\u001b[0;32m--> 202\u001b[0;31m             \u001b[0mresponse\u001b[0m \u001b[0;34m=\u001b[0m \u001b[0mself\u001b[0m\u001b[0;34m.\u001b[0m\u001b[0mredis_con\u001b[0m\u001b[0;34m.\u001b[0m\u001b[0mexecute_command\u001b[0m\u001b[0;34m(\u001b[0m\u001b[0;34m*\u001b[0m\u001b[0mcommand\u001b[0m\u001b[0;34m)\u001b[0m\u001b[0;34m\u001b[0m\u001b[0;34m\u001b[0m\u001b[0m\n\u001b[0m\u001b[1;32m    203\u001b[0m             \u001b[0;32mreturn\u001b[0m \u001b[0mQueryResult\u001b[0m\u001b[0;34m(\u001b[0m\u001b[0mself\u001b[0m\u001b[0;34m,\u001b[0m \u001b[0mresponse\u001b[0m\u001b[0;34m)\u001b[0m\u001b[0;34m\u001b[0m\u001b[0;34m\u001b[0m\u001b[0m\n\u001b[1;32m    204\u001b[0m         \u001b[0;32mexcept\u001b[0m \u001b[0mredis\u001b[0m\u001b[0;34m.\u001b[0m\u001b[0mexceptions\u001b[0m\u001b[0;34m.\u001b[0m\u001b[0mResponseError\u001b[0m \u001b[0;32mas\u001b[0m \u001b[0me\u001b[0m\u001b[0;34m:\u001b[0m\u001b[0;34m\u001b[0m\u001b[0;34m\u001b[0m\u001b[0m\n",
            "\u001b[0;32m/usr/local/lib/python3.10/dist-packages/redis/client.py\u001b[0m in \u001b[0;36mexecute_command\u001b[0;34m(self, *args, **options)\u001b[0m\n\u001b[1;32m    899\u001b[0m         \u001b[0;32mtry\u001b[0m\u001b[0;34m:\u001b[0m\u001b[0;34m\u001b[0m\u001b[0;34m\u001b[0m\u001b[0m\n\u001b[1;32m    900\u001b[0m             \u001b[0mconn\u001b[0m\u001b[0;34m.\u001b[0m\u001b[0msend_command\u001b[0m\u001b[0;34m(\u001b[0m\u001b[0;34m*\u001b[0m\u001b[0margs\u001b[0m\u001b[0;34m)\u001b[0m\u001b[0;34m\u001b[0m\u001b[0;34m\u001b[0m\u001b[0m\n\u001b[0;32m--> 901\u001b[0;31m             \u001b[0;32mreturn\u001b[0m \u001b[0mself\u001b[0m\u001b[0;34m.\u001b[0m\u001b[0mparse_response\u001b[0m\u001b[0;34m(\u001b[0m\u001b[0mconn\u001b[0m\u001b[0;34m,\u001b[0m \u001b[0mcommand_name\u001b[0m\u001b[0;34m,\u001b[0m \u001b[0;34m**\u001b[0m\u001b[0moptions\u001b[0m\u001b[0;34m)\u001b[0m\u001b[0;34m\u001b[0m\u001b[0;34m\u001b[0m\u001b[0m\n\u001b[0m\u001b[1;32m    902\u001b[0m         \u001b[0;32mexcept\u001b[0m \u001b[0;34m(\u001b[0m\u001b[0mConnectionError\u001b[0m\u001b[0;34m,\u001b[0m \u001b[0mTimeoutError\u001b[0m\u001b[0;34m)\u001b[0m \u001b[0;32mas\u001b[0m \u001b[0me\u001b[0m\u001b[0;34m:\u001b[0m\u001b[0;34m\u001b[0m\u001b[0;34m\u001b[0m\u001b[0m\n\u001b[1;32m    903\u001b[0m             \u001b[0mconn\u001b[0m\u001b[0;34m.\u001b[0m\u001b[0mdisconnect\u001b[0m\u001b[0;34m(\u001b[0m\u001b[0;34m)\u001b[0m\u001b[0;34m\u001b[0m\u001b[0;34m\u001b[0m\u001b[0m\n",
            "\u001b[0;32m/usr/local/lib/python3.10/dist-packages/redis/client.py\u001b[0m in \u001b[0;36mparse_response\u001b[0;34m(self, connection, command_name, **options)\u001b[0m\n\u001b[1;32m    913\u001b[0m         \u001b[0;34m\"Parses a response from the Redis server\"\u001b[0m\u001b[0;34m\u001b[0m\u001b[0;34m\u001b[0m\u001b[0m\n\u001b[1;32m    914\u001b[0m         \u001b[0;32mtry\u001b[0m\u001b[0;34m:\u001b[0m\u001b[0;34m\u001b[0m\u001b[0;34m\u001b[0m\u001b[0m\n\u001b[0;32m--> 915\u001b[0;31m             \u001b[0mresponse\u001b[0m \u001b[0;34m=\u001b[0m \u001b[0mconnection\u001b[0m\u001b[0;34m.\u001b[0m\u001b[0mread_response\u001b[0m\u001b[0;34m(\u001b[0m\u001b[0;34m)\u001b[0m\u001b[0;34m\u001b[0m\u001b[0;34m\u001b[0m\u001b[0m\n\u001b[0m\u001b[1;32m    916\u001b[0m         \u001b[0;32mexcept\u001b[0m \u001b[0mResponseError\u001b[0m\u001b[0;34m:\u001b[0m\u001b[0;34m\u001b[0m\u001b[0;34m\u001b[0m\u001b[0m\n\u001b[1;32m    917\u001b[0m             \u001b[0;32mif\u001b[0m \u001b[0mEMPTY_RESPONSE\u001b[0m \u001b[0;32min\u001b[0m \u001b[0moptions\u001b[0m\u001b[0;34m:\u001b[0m\u001b[0;34m\u001b[0m\u001b[0;34m\u001b[0m\u001b[0m\n",
            "\u001b[0;32m/usr/local/lib/python3.10/dist-packages/redis/connection.py\u001b[0m in \u001b[0;36mread_response\u001b[0;34m(self)\u001b[0m\n\u001b[1;32m    754\u001b[0m \u001b[0;34m\u001b[0m\u001b[0m\n\u001b[1;32m    755\u001b[0m         \u001b[0;32mif\u001b[0m \u001b[0misinstance\u001b[0m\u001b[0;34m(\u001b[0m\u001b[0mresponse\u001b[0m\u001b[0;34m,\u001b[0m \u001b[0mResponseError\u001b[0m\u001b[0;34m)\u001b[0m\u001b[0;34m:\u001b[0m\u001b[0;34m\u001b[0m\u001b[0;34m\u001b[0m\u001b[0m\n\u001b[0;32m--> 756\u001b[0;31m             \u001b[0;32mraise\u001b[0m \u001b[0mresponse\u001b[0m\u001b[0;34m\u001b[0m\u001b[0;34m\u001b[0m\u001b[0m\n\u001b[0m\u001b[1;32m    757\u001b[0m         \u001b[0;32mreturn\u001b[0m \u001b[0mresponse\u001b[0m\u001b[0;34m\u001b[0m\u001b[0;34m\u001b[0m\u001b[0m\n\u001b[1;32m    758\u001b[0m \u001b[0;34m\u001b[0m\u001b[0m\n",
            "\u001b[0;31mResponseError\u001b[0m: errMsg: Invalid input 'b': expected '|', '*', '{', a parameter or ']' line: 1, column: 154, offset: 153 errCtx: ...e:\"Rajas Of The Ganges\"})-[:Designed by]->(ghprwbaxln:Designer{name:\"Inka ... errCtxOffset: 40"
          ]
        }
      ]
    },
    {
      "cell_type": "markdown",
      "source": [
        "Creación de las relaciones"
      ],
      "metadata": {
        "id": "l6JYA1jE3_wp"
      }
    },
    {
      "cell_type": "code",
      "source": [
        "#graph.add_edge(edge)\n",
        "data_graph_list: list = [data_designer[0], data_artist[0], data_mechanic[0], data_publisher[0], data_categories[0], data_family[0]]\n",
        "\n",
        "\n",
        "for data in data_graph_list:\n",
        "    #print(data)\n",
        "    for key, names in data.items():\n",
        "      label: str = key.split(\"_\")[0].capitalize()\n",
        "\n",
        "      for name in names:\n",
        "        relation = define_relation(label)\n",
        "        if relation is not None:\n",
        "          edges.append(Edge(node,relation,name))\n",
        "\n",
        "for edge in edges:\n",
        "  graph.add_edge(edge)\n",
        "  graph.commit()\n",
        ""
      ],
      "metadata": {
        "id": "wQVb3LFk3_SI"
      },
      "execution_count": null,
      "outputs": []
    },
    {
      "cell_type": "code",
      "source": [
        "def get_all_nodes(graph: Graph) -> list[dict]:\n",
        "    \"\"\"\n",
        "    Retrieve all nodes from the Redis graph.\n",
        "\n",
        "    Args:\n",
        "        graph: Redis graph instance.\n",
        "\n",
        "    Returns:\n",
        "        List of dictionaries where each dictionary contains the node's label, id, and properties.\n",
        "    \"\"\"\n",
        "    query = \"MATCH (n) RETURN n\"\n",
        "    result = graph.query(query)\n",
        "    nodes = []\n",
        "\n",
        "    for record in result.result_set:\n",
        "        node = record[0]\n",
        "        node_data = {\n",
        "            \"id\": node.id,\n",
        "            \"label\": node.label,\n",
        "            \"properties\": node.properties\n",
        "        }\n",
        "        nodes.append(node_data)\n",
        "\n",
        "    return nodes\n",
        "\n",
        "# Example usage\n",
        "all_nodes = get_all_nodes(graph)\n",
        "for node in all_nodes:\n",
        "    print(node)"
      ],
      "metadata": {
        "id": "yly1ubi6f1B1"
      },
      "execution_count": null,
      "outputs": []
    },
    {
      "cell_type": "code",
      "source": [
        "import matplotlib.pyplot as plt\n",
        "import networkx as nx\n",
        "from redisgraph import Graph, Node\n",
        "\n",
        "\n",
        "def plot_graph(graph: Graph) -> None:\n",
        "    \"\"\"\n",
        "    Plot the Redis graph using NetworkX and Matplotlib, optimized for larger graphs.\n",
        "\n",
        "    Args:\n",
        "        graph: Redis graph instance.\n",
        "    \"\"\"\n",
        "    nx_graph = nx.DiGraph()\n",
        "\n",
        "    node_query = \"MATCH (n) RETURN n\"\n",
        "    node_result = graph.query(node_query)\n",
        "\n",
        "    for record in node_result.result_set:\n",
        "        node = record[0]\n",
        "        node_id = node.id\n",
        "        node_label = node.label\n",
        "        node_name = node.properties.get(\"name\", f\"Node {node_id}\")\n",
        "        nx_graph.add_node(node_id, label=node_label, name=node_name, category=node_label)\n",
        "\n",
        "    edge_query = \"MATCH (n)-[r]->(m) RETURN n, r, m\"\n",
        "    edge_result = graph.query(edge_query)\n",
        "\n",
        "    for record in edge_result.result_set:\n",
        "        src = record[0].id\n",
        "        dest = record[2].id\n",
        "        relationship = record[1].type\n",
        "        nx_graph.add_edge(src, dest, label=relationship)\n",
        "\n",
        "    plt.figure(figsize=(16, 12))\n",
        "    pos = nx.spring_layout(nx_graph, k=0.5)\n",
        "\n",
        "    categories = nx.get_node_attributes(nx_graph, 'category')\n",
        "    unique_categories = set(categories.values())\n",
        "    node_colors = {cat: plt.cm.tab10(i / len(unique_categories)) for i, cat in enumerate(unique_categories)}\n",
        "    node_color_list = [node_colors[categories[node]] for node in nx_graph.nodes()]\n",
        "\n",
        "    nx.draw(\n",
        "        nx_graph, pos,\n",
        "        with_labels=False,\n",
        "        node_size=700,\n",
        "        node_color=node_color_list,\n",
        "        edge_color='gray',\n",
        "        alpha=0.7\n",
        "    )\n",
        "\n",
        "    node_labels = {node: data['name'] for node, data in nx_graph.nodes(data=True)}\n",
        "    nx.draw_networkx_labels(nx_graph, pos, labels=node_labels, font_size=8, font_color='black')\n",
        "\n",
        "    edge_labels = nx.get_edge_attributes(nx_graph, \"label\")\n",
        "    nx.draw_networkx_edge_labels(nx_graph, pos, edge_labels=edge_labels, font_size=6)\n",
        "\n",
        "    legend_labels = [plt.Line2D([0], [0], marker='o', color='w', markerfacecolor=color, markersize=10, label=cat)\n",
        "                     for cat, color in node_colors.items()]\n",
        "    plt.legend(handles=legend_labels, loc='best', title='Categories')\n",
        "\n",
        "    plt.title(\"Redis Graph Visualization\")\n",
        "    plt.show()\n",
        "\n",
        "\n",
        "plot_graph(graph)\n"
      ],
      "metadata": {
        "id": "TCOLZvME3p0M"
      },
      "execution_count": null,
      "outputs": []
    }
  ],
  "metadata": {
    "language_info": {
      "name": "python"
    },
    "colab": {
      "provenance": []
    },
    "kernelspec": {
      "name": "python3",
      "display_name": "Python 3"
    }
  },
  "nbformat": 4,
  "nbformat_minor": 0
}