{
 "cells": [
  {
   "cell_type": "markdown",
   "metadata": {},
   "source": [
    "### Facultad de Ciencias Exactas, Ingeniería y Agrimensura - UNR\n",
    "## Tenicatura Universitaria en Inteligencia Artificial.\n",
    "\n",
    "\n",
    "# Trabajo Práctico Final: Procesamiento de Lenguaje Natural.\n",
    "\n",
    "- **Pace, Bruno. Legajo: P-5295/7.**\n",
    "\n",
    "Docentes: \n",
    " - Manson, Juan Pablo.\n",
    " - Geary, Alan.\n",
    " - Sollberger, Dolores.\n",
    " - \n",
    "\n",
    "Fecha de Entrega: 16 de diciembre de 2024.\n"
   ]
  },
  {
   "cell_type": "code",
   "execution_count": null,
   "metadata": {},
   "outputs": [],
   "source": []
  }
 ],
 "metadata": {
  "language_info": {
   "name": "python"
  }
 },
 "nbformat": 4,
 "nbformat_minor": 2
}
