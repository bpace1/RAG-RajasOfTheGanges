{
  "cells": [
    {
      "cell_type": "markdown",
      "metadata": {
        "id": "_0SfZjkEr6dJ"
      },
      "source": [
        "### Facultad de Ciencias Exactas, Ingeniería y Agrimensura - UNR\n",
        "## Tenicatura Universitaria en Inteligencia Artificial.\n",
        "\n",
        "\n",
        "# Trabajo Práctico Final: Procesamiento de Lenguaje Natural.\n",
        "\n",
        "- **Pace, Bruno. Legajo: P-5295/7.**\n",
        "\n",
        "Docentes:\n",
        " - Manson, Juan Pablo.\n",
        " - Geary, Alan.\n",
        " - Sollberger, Dolores.\n",
        " -\n",
        "\n",
        "Fecha de Entrega: 15 de diciembre de 2024.\n"
      ]
    },
    {
      "cell_type": "markdown",
      "source": [
        "# Base de Datos de Grafo"
      ],
      "metadata": {
        "id": "jUbqUlQ9sFfu"
      }
    },
    {
      "cell_type": "code",
      "execution_count": 8,
      "metadata": {
        "id": "H6pQdARXr6dL"
      },
      "outputs": [],
      "source": [
        "%%capture\n",
        "!pip install redis redisgraph\n",
        "!wget http://nz2.archive.ubuntu.com/ubuntu/pool/main/o/openssl/libssl1.1_1.1.1f-1ubuntu2_amd64.deb\n",
        "!sudo dpkg -i libssl1.1_1.1.1f-1ubuntu2_amd64.deb\n",
        "!curl -fsSL https://packages.redis.io/redis-stack/redis-stack-server-6.2.6-v7.focal.x86_64.tar.gz -o redis-stack-server.tar.gz\n",
        "!tar -xvf redis-stack-server.tar.gz\n",
        "!./redis-stack-server-6.2.6-v7/bin/redis-stack-server --daemonize yes\n",
        "\n",
        "!pip install playwright\n",
        "!playwright install"
      ]
    },
    {
      "cell_type": "code",
      "source": [
        "import os\n",
        "from playwright.async_api import async_playwright"
      ],
      "metadata": {
        "id": "Rzg8EC35ELcZ"
      },
      "execution_count": 9,
      "outputs": []
    },
    {
      "cell_type": "code",
      "source": [
        "url: str = 'https://boardgamegeek.com/boardgame/220877/rajas-of-the-ganges/credits'\n",
        "os.environ['PATH'] += ':/usr/bin/chromedriver'"
      ],
      "metadata": {
        "id": "raIaclCSILCx"
      },
      "execution_count": 10,
      "outputs": []
    },
    {
      "cell_type": "code",
      "source": [
        "from playwright.async_api import async_playwright\n",
        "\n",
        "# Define an asynchronous function to use Playwright\n",
        "async def run_playwright():\n",
        "    async with async_playwright() as p:\n",
        "        browser = await p.chromium.launch(headless=True)  # Launch browser in headless mode\n",
        "        page = await browser.new_page()  # Create a new browser page\n",
        "        await page.goto('https://boardgamegeek.com/boardgame/220877/rajas-of-the-ganges/credits')  # Navigate to the page\n",
        "\n",
        "        # Increase the timeout to 60 seconds\n",
        "        await page.wait_for_selector('h1[itemprop=\"name\"]', timeout=60000)  # Wait for the game title to load\n",
        "\n",
        "        # Extracting the required data\n",
        "        title = await page.title()  # Get the page title\n",
        "        print(\"Page Title:\", title)\n",
        "\n",
        "        # Extracting the artist(s)\n",
        "        artists = await page.query_selector_all('div[itemprop=\"artist\"] a')\n",
        "        artist_names = [await artist.inner_text() for artist in artists]\n",
        "        print(\"Artists:\", artist_names)\n",
        "\n",
        "        # Extracting the designer(s)\n",
        "        designers = await page.query_selector_all('div[itemprop=\"designer\"] a')\n",
        "        designer_names = [await designer.inner_text() for designer in designers]\n",
        "        print(\"Designers:\", designer_names)\n",
        "\n",
        "        # Extracting the year released\n",
        "        year_released = await page.query_selector('div[itemprop=\"datePublished\"]')\n",
        "        year_released = await year_released.inner_text() if year_released else \"N/A\"\n",
        "        print(\"Year Released:\", year_released)\n",
        "\n",
        "        # Extracting the categories\n",
        "        categories = await page.query_selector_all('div[itemprop=\"genre\"] a')\n",
        "        category_names = [await category.inner_text() for category in categories]\n",
        "        print(\"Categories:\", category_names)\n",
        "\n",
        "        # Extracting the mechanisms\n",
        "        mechanisms = await page.query_selector_all('div[itemprop=\"gameMechanic\"] a')\n",
        "        mechanism_names = [await mechanism.inner_text() for mechanism in mechanisms]\n",
        "        print(\"Mechanisms:\", mechanism_names)\n",
        "\n",
        "        # Extracting alternate names\n",
        "        alternate_names = await page.query_selector_all('div[itemprop=\"name\"] span')\n",
        "        alternate_name_list = [await alt_name.inner_text() for alt_name in alternate_names]\n",
        "        print(\"Alternate Names:\", alternate_name_list)\n",
        "\n",
        "        # Extracting publisher(s)\n",
        "        publishers = await page.query_selector_all('div[itemprop=\"publisher\"] a')\n",
        "        publisher_names = [await publisher.inner_text() for publisher in publishers]\n",
        "        print(\"Publishers:\", publisher_names)\n",
        "\n",
        "        await browser.close()  # Close the browser\n",
        "\n",
        "# Directly call the async function in Colab\n",
        "await run_playwright()\n"
      ],
      "metadata": {
        "id": "gV14k698JrYS",
        "outputId": "931a9daa-849d-4bd2-e09b-8b32014a38d5",
        "colab": {
          "base_uri": "https://localhost:8080/",
          "height": 418
        }
      },
      "execution_count": 16,
      "outputs": [
        {
          "output_type": "stream",
          "name": "stderr",
          "text": [
            "/usr/local/lib/python3.10/dist-packages/pyee/base.py:64: RuntimeWarning: coroutine 'run_playwright' was never awaited\n",
            "  self._lock: Lock = Lock()\n",
            "RuntimeWarning: Enable tracemalloc to get the object allocation traceback\n"
          ]
        },
        {
          "output_type": "error",
          "ename": "TimeoutError",
          "evalue": "Page.wait_for_selector: Timeout 60000ms exceeded.\nCall log:\n  - waiting for locator(\"h1[itemprop=\\\"name\\\"]\") to be visible\n",
          "traceback": [
            "\u001b[0;31m---------------------------------------------------------------------------\u001b[0m",
            "\u001b[0;31mTimeoutError\u001b[0m                              Traceback (most recent call last)",
            "\u001b[0;32m<ipython-input-16-525acce6e7e0>\u001b[0m in \u001b[0;36m<cell line: 55>\u001b[0;34m()\u001b[0m\n\u001b[1;32m     53\u001b[0m \u001b[0;34m\u001b[0m\u001b[0m\n\u001b[1;32m     54\u001b[0m \u001b[0;31m# Directly call the async function in Colab\u001b[0m\u001b[0;34m\u001b[0m\u001b[0;34m\u001b[0m\u001b[0m\n\u001b[0;32m---> 55\u001b[0;31m \u001b[0;32mawait\u001b[0m \u001b[0mrun_playwright\u001b[0m\u001b[0;34m(\u001b[0m\u001b[0;34m)\u001b[0m\u001b[0;34m\u001b[0m\u001b[0;34m\u001b[0m\u001b[0m\n\u001b[0m",
            "\u001b[0;32m<ipython-input-16-525acce6e7e0>\u001b[0m in \u001b[0;36mrun_playwright\u001b[0;34m()\u001b[0m\n\u001b[1;32m      9\u001b[0m \u001b[0;34m\u001b[0m\u001b[0m\n\u001b[1;32m     10\u001b[0m         \u001b[0;31m# Increase the timeout to 60 seconds\u001b[0m\u001b[0;34m\u001b[0m\u001b[0;34m\u001b[0m\u001b[0m\n\u001b[0;32m---> 11\u001b[0;31m         \u001b[0;32mawait\u001b[0m \u001b[0mpage\u001b[0m\u001b[0;34m.\u001b[0m\u001b[0mwait_for_selector\u001b[0m\u001b[0;34m(\u001b[0m\u001b[0;34m'h1[itemprop=\"name\"]'\u001b[0m\u001b[0;34m,\u001b[0m \u001b[0mtimeout\u001b[0m\u001b[0;34m=\u001b[0m\u001b[0;36m60000\u001b[0m\u001b[0;34m)\u001b[0m  \u001b[0;31m# Wait for the game title to load\u001b[0m\u001b[0;34m\u001b[0m\u001b[0;34m\u001b[0m\u001b[0m\n\u001b[0m\u001b[1;32m     12\u001b[0m \u001b[0;34m\u001b[0m\u001b[0m\n\u001b[1;32m     13\u001b[0m         \u001b[0;31m# Extracting the required data\u001b[0m\u001b[0;34m\u001b[0m\u001b[0;34m\u001b[0m\u001b[0m\n",
            "\u001b[0;32m/usr/local/lib/python3.10/dist-packages/playwright/async_api/_generated.py\u001b[0m in \u001b[0;36mwait_for_selector\u001b[0;34m(self, selector, timeout, state, strict)\u001b[0m\n\u001b[1;32m   8160\u001b[0m \u001b[0;34m\u001b[0m\u001b[0m\n\u001b[1;32m   8161\u001b[0m         return mapping.from_impl_nullable(\n\u001b[0;32m-> 8162\u001b[0;31m             await self._impl_obj.wait_for_selector(\n\u001b[0m\u001b[1;32m   8163\u001b[0m                 \u001b[0mselector\u001b[0m\u001b[0;34m=\u001b[0m\u001b[0mselector\u001b[0m\u001b[0;34m,\u001b[0m \u001b[0mtimeout\u001b[0m\u001b[0;34m=\u001b[0m\u001b[0mtimeout\u001b[0m\u001b[0;34m,\u001b[0m \u001b[0mstate\u001b[0m\u001b[0;34m=\u001b[0m\u001b[0mstate\u001b[0m\u001b[0;34m,\u001b[0m \u001b[0mstrict\u001b[0m\u001b[0;34m=\u001b[0m\u001b[0mstrict\u001b[0m\u001b[0;34m\u001b[0m\u001b[0;34m\u001b[0m\u001b[0m\n\u001b[1;32m   8164\u001b[0m             )\n",
            "\u001b[0;32m/usr/local/lib/python3.10/dist-packages/playwright/_impl/_page.py\u001b[0m in \u001b[0;36mwait_for_selector\u001b[0;34m(self, selector, timeout, state, strict)\u001b[0m\n\u001b[1;32m    422\u001b[0m         \u001b[0mstrict\u001b[0m\u001b[0;34m:\u001b[0m \u001b[0mbool\u001b[0m \u001b[0;34m=\u001b[0m \u001b[0;32mNone\u001b[0m\u001b[0;34m,\u001b[0m\u001b[0;34m\u001b[0m\u001b[0;34m\u001b[0m\u001b[0m\n\u001b[1;32m    423\u001b[0m     ) -> Optional[ElementHandle]:\n\u001b[0;32m--> 424\u001b[0;31m         \u001b[0;32mreturn\u001b[0m \u001b[0;32mawait\u001b[0m \u001b[0mself\u001b[0m\u001b[0;34m.\u001b[0m\u001b[0m_main_frame\u001b[0m\u001b[0;34m.\u001b[0m\u001b[0mwait_for_selector\u001b[0m\u001b[0;34m(\u001b[0m\u001b[0;34m**\u001b[0m\u001b[0mlocals_to_params\u001b[0m\u001b[0;34m(\u001b[0m\u001b[0mlocals\u001b[0m\u001b[0;34m(\u001b[0m\u001b[0;34m)\u001b[0m\u001b[0;34m)\u001b[0m\u001b[0;34m)\u001b[0m\u001b[0;34m\u001b[0m\u001b[0;34m\u001b[0m\u001b[0m\n\u001b[0m\u001b[1;32m    425\u001b[0m \u001b[0;34m\u001b[0m\u001b[0m\n\u001b[1;32m    426\u001b[0m     async def is_checked(\n",
            "\u001b[0;32m/usr/local/lib/python3.10/dist-packages/playwright/_impl/_frame.py\u001b[0m in \u001b[0;36mwait_for_selector\u001b[0;34m(self, selector, strict, timeout, state)\u001b[0m\n\u001b[1;32m    321\u001b[0m     ) -> Optional[ElementHandle]:\n\u001b[1;32m    322\u001b[0m         return from_nullable_channel(\n\u001b[0;32m--> 323\u001b[0;31m             \u001b[0;32mawait\u001b[0m \u001b[0mself\u001b[0m\u001b[0;34m.\u001b[0m\u001b[0m_channel\u001b[0m\u001b[0;34m.\u001b[0m\u001b[0msend\u001b[0m\u001b[0;34m(\u001b[0m\u001b[0;34m\"waitForSelector\"\u001b[0m\u001b[0;34m,\u001b[0m \u001b[0mlocals_to_params\u001b[0m\u001b[0;34m(\u001b[0m\u001b[0mlocals\u001b[0m\u001b[0;34m(\u001b[0m\u001b[0;34m)\u001b[0m\u001b[0;34m)\u001b[0m\u001b[0;34m)\u001b[0m\u001b[0;34m\u001b[0m\u001b[0;34m\u001b[0m\u001b[0m\n\u001b[0m\u001b[1;32m    324\u001b[0m         )\n\u001b[1;32m    325\u001b[0m \u001b[0;34m\u001b[0m\u001b[0m\n",
            "\u001b[0;32m/usr/local/lib/python3.10/dist-packages/playwright/_impl/_connection.py\u001b[0m in \u001b[0;36msend\u001b[0;34m(self, method, params)\u001b[0m\n\u001b[1;32m     59\u001b[0m \u001b[0;34m\u001b[0m\u001b[0m\n\u001b[1;32m     60\u001b[0m     \u001b[0;32masync\u001b[0m \u001b[0;32mdef\u001b[0m \u001b[0msend\u001b[0m\u001b[0;34m(\u001b[0m\u001b[0mself\u001b[0m\u001b[0;34m,\u001b[0m \u001b[0mmethod\u001b[0m\u001b[0;34m:\u001b[0m \u001b[0mstr\u001b[0m\u001b[0;34m,\u001b[0m \u001b[0mparams\u001b[0m\u001b[0;34m:\u001b[0m \u001b[0mDict\u001b[0m \u001b[0;34m=\u001b[0m \u001b[0;32mNone\u001b[0m\u001b[0;34m)\u001b[0m \u001b[0;34m->\u001b[0m \u001b[0mAny\u001b[0m\u001b[0;34m:\u001b[0m\u001b[0;34m\u001b[0m\u001b[0;34m\u001b[0m\u001b[0m\n\u001b[0;32m---> 61\u001b[0;31m         return await self._connection.wrap_api_call(\n\u001b[0m\u001b[1;32m     62\u001b[0m             \u001b[0;32mlambda\u001b[0m\u001b[0;34m:\u001b[0m \u001b[0mself\u001b[0m\u001b[0;34m.\u001b[0m\u001b[0m_inner_send\u001b[0m\u001b[0;34m(\u001b[0m\u001b[0mmethod\u001b[0m\u001b[0;34m,\u001b[0m \u001b[0mparams\u001b[0m\u001b[0;34m,\u001b[0m \u001b[0;32mFalse\u001b[0m\u001b[0;34m)\u001b[0m\u001b[0;34m,\u001b[0m\u001b[0;34m\u001b[0m\u001b[0;34m\u001b[0m\u001b[0m\n\u001b[1;32m     63\u001b[0m             \u001b[0mself\u001b[0m\u001b[0;34m.\u001b[0m\u001b[0m_is_internal_type\u001b[0m\u001b[0;34m,\u001b[0m\u001b[0;34m\u001b[0m\u001b[0;34m\u001b[0m\u001b[0m\n",
            "\u001b[0;32m/usr/local/lib/python3.10/dist-packages/playwright/_impl/_connection.py\u001b[0m in \u001b[0;36mwrap_api_call\u001b[0;34m(self, cb, is_internal)\u001b[0m\n\u001b[1;32m    526\u001b[0m             \u001b[0;32mreturn\u001b[0m \u001b[0;32mawait\u001b[0m \u001b[0mcb\u001b[0m\u001b[0;34m(\u001b[0m\u001b[0;34m)\u001b[0m\u001b[0;34m\u001b[0m\u001b[0;34m\u001b[0m\u001b[0m\n\u001b[1;32m    527\u001b[0m         \u001b[0;32mexcept\u001b[0m \u001b[0mException\u001b[0m \u001b[0;32mas\u001b[0m \u001b[0merror\u001b[0m\u001b[0;34m:\u001b[0m\u001b[0;34m\u001b[0m\u001b[0;34m\u001b[0m\u001b[0m\n\u001b[0;32m--> 528\u001b[0;31m             \u001b[0;32mraise\u001b[0m \u001b[0mrewrite_error\u001b[0m\u001b[0;34m(\u001b[0m\u001b[0merror\u001b[0m\u001b[0;34m,\u001b[0m \u001b[0;34mf\"{parsed_st['apiName']}: {error}\"\u001b[0m\u001b[0;34m)\u001b[0m \u001b[0;32mfrom\u001b[0m \u001b[0;32mNone\u001b[0m\u001b[0;34m\u001b[0m\u001b[0;34m\u001b[0m\u001b[0m\n\u001b[0m\u001b[1;32m    529\u001b[0m         \u001b[0;32mfinally\u001b[0m\u001b[0;34m:\u001b[0m\u001b[0;34m\u001b[0m\u001b[0;34m\u001b[0m\u001b[0m\n\u001b[1;32m    530\u001b[0m             \u001b[0mself\u001b[0m\u001b[0;34m.\u001b[0m\u001b[0m_api_zone\u001b[0m\u001b[0;34m.\u001b[0m\u001b[0mset\u001b[0m\u001b[0;34m(\u001b[0m\u001b[0;32mNone\u001b[0m\u001b[0;34m)\u001b[0m\u001b[0;34m\u001b[0m\u001b[0;34m\u001b[0m\u001b[0m\n",
            "\u001b[0;31mTimeoutError\u001b[0m: Page.wait_for_selector: Timeout 60000ms exceeded.\nCall log:\n  - waiting for locator(\"h1[itemprop=\\\"name\\\"]\") to be visible\n"
          ]
        }
      ]
    }
  ],
  "metadata": {
    "language_info": {
      "name": "python"
    },
    "colab": {
      "provenance": []
    },
    "kernelspec": {
      "name": "python3",
      "display_name": "Python 3"
    }
  },
  "nbformat": 4,
  "nbformat_minor": 0
}