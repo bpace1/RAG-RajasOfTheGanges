{
  "cells": [
    {
      "cell_type": "markdown",
      "metadata": {
        "id": "_0SfZjkEr6dJ"
      },
      "source": [
        "### Facultad de Ciencias Exactas, Ingeniería y Agrimensura - UNR\n",
        "## Tenicatura Universitaria en Inteligencia Artificial.\n",
        "\n",
        "\n",
        "# Trabajo Práctico Final: Procesamiento de Lenguaje Natural.\n",
        "\n",
        "- **Pace, Bruno. Legajo: P-5295/7.**\n",
        "\n",
        "Docentes:\n",
        " - Manson, Juan Pablo.\n",
        " - Geary, Alan.\n",
        " - Sollberger, Dolores.\n",
        " - Ferrucci, Costantino.\n",
        "\n",
        "Fecha de Entrega: 15 de diciembre de 2024.\n"
      ]
    },
    {
      "cell_type": "markdown",
      "source": [
        "# Base de Datos de Grafo"
      ],
      "metadata": {
        "id": "jUbqUlQ9sFfu"
      }
    },
    {
      "cell_type": "code",
      "execution_count": 1,
      "metadata": {
        "id": "H6pQdARXr6dL",
        "outputId": "57d51326-f4d7-4c19-871d-6cb2f92c53bc",
        "colab": {
          "base_uri": "https://localhost:8080/",
          "height": 71
        }
      },
      "outputs": [
        {
          "output_type": "execute_result",
          "data": {
            "text/plain": [
              "'\\n%%capture\\n!pip install redis redisgraph\\n!wget http://nz2.archive.ubuntu.com/ubuntu/pool/main/o/openssl/libssl1.1_1.1.1f-1ubuntu2_amd64.deb\\n!sudo dpkg -i libssl1.1_1.1.1f-1ubuntu2_amd64.deb\\n!curl -fsSL https://packages.redis.io/redis-stack/redis-stack-server-6.2.6-v7.focal.x86_64.tar.gz -o redis-stack-server.tar.gz\\n!tar -xvf redis-stack-server.tar.gz\\n!./redis-stack-server-6.2.6-v7/bin/redis-stack-server --daemonize yes\\n\\n!pip install playwright\\n!playwright install\\n'"
            ],
            "application/vnd.google.colaboratory.intrinsic+json": {
              "type": "string"
            }
          },
          "metadata": {},
          "execution_count": 1
        }
      ],
      "source": [
        "\"\"\"\n",
        "%%capture\n",
        "!pip install redis redisgraph\n",
        "!wget http://nz2.archive.ubuntu.com/ubuntu/pool/main/o/openssl/libssl1.1_1.1.1f-1ubuntu2_amd64.deb\n",
        "!sudo dpkg -i libssl1.1_1.1.1f-1ubuntu2_amd64.deb\n",
        "!curl -fsSL https://packages.redis.io/redis-stack/redis-stack-server-6.2.6-v7.focal.x86_64.tar.gz -o redis-stack-server.tar.gz\n",
        "!tar -xvf redis-stack-server.tar.gz\n",
        "!./redis-stack-server-6.2.6-v7/bin/redis-stack-server --daemonize yes\n",
        "\n",
        "!pip install playwright\n",
        "!playwright install\n",
        "\"\"\""
      ]
    },
    {
      "cell_type": "code",
      "source": [
        "!apt-get update\n",
        "!apt-get install -y chromium-browser chromium-chromedriver\n",
        "!pip install selenium\n",
        "\n",
        "!apt-get install -y xvfb\n",
        "!pip install pyvirtualdisplay\n",
        "\n",
        "from selenium import webdriver\n",
        "from selenium.webdriver.chrome.options import Options\n",
        "from selenium.webdriver.chrome.service import Service\n",
        "from selenium.webdriver.common.by import By\n",
        "\n",
        "import os\n",
        "os.environ[\"PATH\"] += \":/usr/bin/chromedriver\""
      ],
      "metadata": {
        "id": "gV14k698JrYS",
        "outputId": "be35e0ab-c46a-49e0-bba7-3d33813f8e46",
        "colab": {
          "base_uri": "https://localhost:8080/"
        }
      },
      "execution_count": 2,
      "outputs": [
        {
          "output_type": "stream",
          "name": "stdout",
          "text": [
            "\r0% [Working]\r            \rHit:1 https://cloud.r-project.org/bin/linux/ubuntu jammy-cran40/ InRelease\n",
            "Hit:2 https://developer.download.nvidia.com/compute/cuda/repos/ubuntu2204/x86_64  InRelease\n",
            "Get:3 http://security.ubuntu.com/ubuntu jammy-security InRelease [129 kB]\n",
            "Get:4 https://r2u.stat.illinois.edu/ubuntu jammy InRelease [6,555 B]\n",
            "Hit:5 http://archive.ubuntu.com/ubuntu jammy InRelease\n",
            "Get:6 http://archive.ubuntu.com/ubuntu jammy-updates InRelease [128 kB]\n",
            "Get:7 https://r2u.stat.illinois.edu/ubuntu jammy/main all Packages [8,537 kB]\n",
            "Hit:8 https://ppa.launchpadcontent.net/deadsnakes/ppa/ubuntu jammy InRelease\n",
            "Hit:9 https://ppa.launchpadcontent.net/graphics-drivers/ppa/ubuntu jammy InRelease\n",
            "Hit:10 https://ppa.launchpadcontent.net/ubuntugis/ppa/ubuntu jammy InRelease\n",
            "Get:11 http://archive.ubuntu.com/ubuntu jammy-backports InRelease [127 kB]\n",
            "Get:12 https://r2u.stat.illinois.edu/ubuntu jammy/main amd64 Packages [2,627 kB]\n",
            "Fetched 11.6 MB in 4s (3,274 kB/s)\n",
            "Reading package lists... Done\n",
            "W: Skipping acquire of configured file 'main/source/Sources' as repository 'https://r2u.stat.illinois.edu/ubuntu jammy InRelease' does not seem to provide it (sources.list entry misspelt?)\n",
            "Reading package lists... Done\n",
            "Building dependency tree... Done\n",
            "Reading state information... Done\n",
            "chromium-browser is already the newest version (1:85.0.4183.83-0ubuntu2.22.04.1).\n",
            "chromium-chromedriver is already the newest version (1:85.0.4183.83-0ubuntu2.22.04.1).\n",
            "0 upgraded, 0 newly installed, 0 to remove and 54 not upgraded.\n",
            "Requirement already satisfied: selenium in /usr/local/lib/python3.10/dist-packages (4.27.1)\n",
            "Requirement already satisfied: urllib3<3,>=1.26 in /usr/local/lib/python3.10/dist-packages (from urllib3[socks]<3,>=1.26->selenium) (2.2.3)\n",
            "Requirement already satisfied: trio~=0.17 in /usr/local/lib/python3.10/dist-packages (from selenium) (0.27.0)\n",
            "Requirement already satisfied: trio-websocket~=0.9 in /usr/local/lib/python3.10/dist-packages (from selenium) (0.11.1)\n",
            "Requirement already satisfied: certifi>=2021.10.8 in /usr/local/lib/python3.10/dist-packages (from selenium) (2024.8.30)\n",
            "Requirement already satisfied: typing_extensions~=4.9 in /usr/local/lib/python3.10/dist-packages (from selenium) (4.12.2)\n",
            "Requirement already satisfied: websocket-client~=1.8 in /usr/local/lib/python3.10/dist-packages (from selenium) (1.8.0)\n",
            "Requirement already satisfied: attrs>=23.2.0 in /usr/local/lib/python3.10/dist-packages (from trio~=0.17->selenium) (24.2.0)\n",
            "Requirement already satisfied: sortedcontainers in /usr/local/lib/python3.10/dist-packages (from trio~=0.17->selenium) (2.4.0)\n",
            "Requirement already satisfied: idna in /usr/local/lib/python3.10/dist-packages (from trio~=0.17->selenium) (3.10)\n",
            "Requirement already satisfied: outcome in /usr/local/lib/python3.10/dist-packages (from trio~=0.17->selenium) (1.3.0.post0)\n",
            "Requirement already satisfied: sniffio>=1.3.0 in /usr/local/lib/python3.10/dist-packages (from trio~=0.17->selenium) (1.3.1)\n",
            "Requirement already satisfied: exceptiongroup in /usr/local/lib/python3.10/dist-packages (from trio~=0.17->selenium) (1.2.2)\n",
            "Requirement already satisfied: wsproto>=0.14 in /usr/local/lib/python3.10/dist-packages (from trio-websocket~=0.9->selenium) (1.2.0)\n",
            "Requirement already satisfied: pysocks!=1.5.7,<2.0,>=1.5.6 in /usr/local/lib/python3.10/dist-packages (from urllib3[socks]<3,>=1.26->selenium) (1.7.1)\n",
            "Requirement already satisfied: h11<1,>=0.9.0 in /usr/local/lib/python3.10/dist-packages (from wsproto>=0.14->trio-websocket~=0.9->selenium) (0.14.0)\n",
            "Reading package lists... Done\n",
            "Building dependency tree... Done\n",
            "Reading state information... Done\n",
            "xvfb is already the newest version (2:21.1.4-2ubuntu1.7~22.04.12).\n",
            "0 upgraded, 0 newly installed, 0 to remove and 54 not upgraded.\n",
            "Requirement already satisfied: pyvirtualdisplay in /usr/local/lib/python3.10/dist-packages (3.0)\n"
          ]
        }
      ]
    },
    {
      "cell_type": "code",
      "source": [
        "url_grafo: str = \"https://boardgamegeek.com/boardgame/220877/rajas-of-the-ganges/credits\""
      ],
      "metadata": {
        "id": "RfhR_chUSchO"
      },
      "execution_count": 3,
      "outputs": []
    },
    {
      "cell_type": "code",
      "source": [
        "def buscar_credito(data: str) -> tuple[dict[dict[str,str], dict[str,str]]]:\n",
        "    \"\"\"\n",
        "    Retorna una tupla de diccionarios que contienen el(los) nombre(s) y el link(s) correspondiente(s)\n",
        "\n",
        "    Args:\n",
        "      data: str = el nombre del dato a buscar\n",
        "\n",
        "    Returns:\n",
        "      name_dict: dict[str, list[str]] = diccionario con los nombres.\n",
        "      link_dict: dict[str, list[str]] = diccionario con los links.\n",
        "    \"\"\"\n",
        "    driver = webdriver.Chrome(service=Service(), options=chrome_options)\n",
        "    driver.get(url_grafo)\n",
        "    print(f\"Buscando {data}...\")\n",
        "\n",
        "    name_dict: dict[str, list[str]] = {f\"{data}_nombre\": []}\n",
        "    link_dict: dict[str, list[str]] = {f\"{data}_link\": []}\n",
        "\n",
        "    elements = driver.find_elements(By.XPATH, f'//a[contains(@ng-href, \"/boardgame{data}/\")]')\n",
        "\n",
        "    if elements:\n",
        "        for element in elements:\n",
        "            name_dict[f\"{data}_nombre\"].append(element.text)\n",
        "            link_dict[f\"{data}_link\"].append(element.get_attribute('href'))\n",
        "    else:\n",
        "        print(f\"No se encontraron elementos para {data}\")\n",
        "\n",
        "    driver.quit()\n",
        "\n",
        "    return name_dict, link_dict\n",
        "\n",
        "data_designers: tuple[dict[dict[str,str], dict[str,str]]] = buscar_credito(\"designer\")\n",
        "data_artists: tuple[dict[dict[str,str], dict[str,str]]] = buscar_credito(\"artist\")\n",
        "data_families: tuple[dict[dict[str,str], dict[str,str]]] = buscar_credito(\"family\")\n",
        "data_mechanics: tuple[dict[dict[str,str], dict[str,str]]] = buscar_credito(\"mechanic\")\n",
        "data_publishers: tuple[dict[dict[str,str], dict[str,str]]] = buscar_credito(\"publisher\")\n",
        "data_categories: tuple[dict[dict[str,str], dict[str,str]]] = buscar_credito(\"category\")"
      ],
      "metadata": {
        "id": "Pwzp3woDrU26",
        "outputId": "dec1e006-eeb8-4a9a-beb4-c7efa61f6874",
        "colab": {
          "base_uri": "https://localhost:8080/"
        }
      },
      "execution_count": 10,
      "outputs": [
        {
          "output_type": "stream",
          "name": "stdout",
          "text": [
            "Buscando designer...\n",
            "Buscando artist...\n",
            "Buscando family...\n",
            "Buscando mechanic...\n",
            "Buscando publisher...\n",
            "Buscando category...\n",
            "({'designer_nombre': ['Inka Brand', 'Markus Brand']}, {'designer_link': ['https://boardgamegeek.com/boardgamedesigner/6940/inka-brand', 'https://boardgamegeek.com/boardgamedesigner/6941/markus-brand']})\n"
          ]
        },
        {
          "output_type": "execute_result",
          "data": {
            "text/plain": [
              "NoneType"
            ]
          },
          "metadata": {},
          "execution_count": 10
        }
      ]
    },
    {
      "cell_type": "code",
      "source": [
        "type(data_designers[1])"
      ],
      "metadata": {
        "id": "Awnzr3D2sMOp",
        "outputId": "5dd54963-932d-46d2-d5c4-f6e879e85f93",
        "colab": {
          "base_uri": "https://localhost:8080/"
        }
      },
      "execution_count": 13,
      "outputs": [
        {
          "output_type": "execute_result",
          "data": {
            "text/plain": [
              "dict"
            ]
          },
          "metadata": {},
          "execution_count": 13
        }
      ]
    }
  ],
  "metadata": {
    "language_info": {
      "name": "python"
    },
    "colab": {
      "provenance": []
    },
    "kernelspec": {
      "name": "python3",
      "display_name": "Python 3"
    }
  },
  "nbformat": 4,
  "nbformat_minor": 0
}